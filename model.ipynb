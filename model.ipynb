{
 "cells": [
  {
   "cell_type": "code",
   "execution_count": null,
   "id": "6f45bfaf",
   "metadata": {},
   "outputs": [],
   "source": [
    "import os\n",
    "import pandas as pd\n",
    "import numpy as np\n",
    "from PIL import Image\n",
    "import cv2\n",
    "import torch\n",
    "from torch.utils.data import Dataset, DataLoader\n",
    "import torchvision.transforms as transforms"
   ]
  },
  {
   "cell_type": "code",
   "execution_count": null,
   "id": "1b0f355c",
   "metadata": {},
   "outputs": [],
   "source": [
    "data_path = r\"ODIR-5K\\data.xlsx\"\n",
    "df = pd.read_excel(data_path)\n",
    "df.head(10)"
   ]
  },
  {
   "cell_type": "code",
   "execution_count": null,
   "id": "fa7f4978",
   "metadata": {},
   "outputs": [],
   "source": [
    "# label columns and combining left and right fundus image\n",
    "\n",
    "label_cols = ['N','D','G','C','A','H','M','O']\n",
    "\n",
    "left_df = df[['Left-Fundus']+label_cols].copy()\n",
    "left_df.rename(columns={'Left-Fundus':'image'}, inplace=True)\n",
    "\n",
    "right_df = df[['Right-Fundus']+label_cols].copy()\n",
    "right_df.rename(columns={'Right-Fundus':'image'}, inplace=True)\n",
    "\n",
    "# Combine into one dataframe\n",
    "full_df = pd.concat([left_df, right_df], axis=0).reset_index(drop=True)\n",
    "full_df = full_df.dropna(subset=['image'])"
   ]
  },
  {
   "cell_type": "code",
   "execution_count": null,
   "id": "01fd54a8",
   "metadata": {},
   "outputs": [],
   "source": [
    "# save CSV\n",
    "full_df.to_csv(\"ODIR-5K/full_df.csv\", index=False)\n",
    "full_df.head(10) "
   ]
  },
  {
   "cell_type": "code",
   "execution_count": null,
   "id": "2f49f9f5",
   "metadata": {},
   "outputs": [],
   "source": [
    "# Load full_df.csv\n",
    "df = pd.read_csv(\"ODIR-5K/full_df.csv\")\n",
    "\n",
    "# Input and output directories\n",
    "input_dir = \"ODIR-5K/Training Images\"\n",
    "output_dir = \"ODIR-5K/preprocessed_images\"\n",
    "os.makedirs(output_dir, exist_ok=True)\n",
    "\n",
    "# CLAHE function\n",
    "def apply_clahe(img):\n",
    "    lab = cv2.cvtColor(img, cv2.COLOR_BGR2LAB)\n",
    "    l, a, b = cv2.split(lab)\n",
    "    clahe = cv2.createCLAHE(clipLimit=2.0, tileGridSize=(8, 8))\n",
    "    cl = clahe.apply(l)\n",
    "    merged = cv2.merge((cl, a, b))\n",
    "    return cv2.cvtColor(merged, cv2.COLOR_LAB2BGR)\n",
    "\n",
    "# Apply CLAHE to all images in full_df\n",
    "for img_name in df['image'].unique():\n",
    "    in_path = os.path.join(input_dir, img_name)\n",
    "    out_path = os.path.join(output_dir, img_name)\n",
    "\n",
    "    if os.path.exists(in_path) and not os.path.exists(out_path):\n",
    "        img = cv2.imread(in_path)\n",
    "        if img is not None:\n",
    "            enhanced = apply_clahe(img)\n",
    "            cv2.imwrite(out_path, enhanced)"
   ]
  },
  {
   "cell_type": "code",
   "execution_count": null,
   "id": "8a4d424c",
   "metadata": {},
   "outputs": [],
   "source": [
    "import random\n",
    "import cv2\n",
    "import matplotlib.pyplot as plt\n",
    "\n",
    "# Folder paths\n",
    "original_path = \"ODIR-5K/Training Images\"\n",
    "processed_path = \"ODIR-5K/preprocessed_images\"\n",
    "\n",
    "# Pick 2 random images\n",
    "images = random.sample(os.listdir(processed_path), 2)\n",
    "\n",
    "for img_name in images:\n",
    "    orig = cv2.imread(f\"{original_path}/{img_name}\")\n",
    "    proc = cv2.imread(f\"{processed_path}/{img_name}\")\n",
    "\n",
    "    orig = cv2.cvtColor(orig, cv2.COLOR_BGR2RGB)\n",
    "    proc = cv2.cvtColor(proc, cv2.COLOR_BGR2RGB)\n",
    "\n",
    "    # Show both\n",
    "    plt.figure(figsize=(8, 4))\n",
    "\n",
    "    plt.subplot(1, 2, 1)\n",
    "    plt.imshow(orig)\n",
    "    plt.title(\"Original\")\n",
    "    plt.axis('off')\n",
    "\n",
    "    plt.subplot(1, 2, 2)\n",
    "    plt.imshow(proc)\n",
    "    plt.title(\"CLAHE Enhanced\")\n",
    "    plt.axis('off')\n",
    "\n",
    "    plt.suptitle(img_name)\n",
    "    plt.show()"
   ]
  },
  {
   "cell_type": "code",
   "execution_count": null,
   "id": "9681dd53",
   "metadata": {},
   "outputs": [],
   "source": [
    "label_cols = ['N', 'D', 'G', 'C', 'A', 'H', 'M', 'O']"
   ]
  },
  {
   "cell_type": "code",
   "execution_count": null,
   "id": "9faeddb9",
   "metadata": {},
   "outputs": [],
   "source": [
    "class RetinalDataset(Dataset):\n",
    "    def __init__(self, csv_file, image_dir, transform=None):\n",
    "        self.data = pd.read_csv(csv_file)\n",
    "        self.image_dir = image_dir\n",
    "        self.transform = transform\n",
    "\n",
    "    def __len__(self):\n",
    "        return len(self.data)\n",
    "\n",
    "    def __getitem__(self, idx):\n",
    "        row = self.data.iloc[idx]\n",
    "        img_path = os.path.join(self.image_dir, row['image'])\n",
    "\n",
    "        image = Image.open(img_path).convert(\"RGB\")\n",
    "\n",
    "        if self.transform:\n",
    "            image = self.transform(image)\n",
    "\n",
    "        labels = torch.tensor(row[label_cols].values.astype(np.float32))\n",
    "        return image, labels\n"
   ]
  },
  {
   "cell_type": "code",
   "execution_count": null,
   "id": "9fd1e6cb",
   "metadata": {},
   "outputs": [],
   "source": [
    "transform = transforms.Compose([\n",
    "    transforms.Resize((224, 224)),\n",
    "    transforms.ToTensor()\n",
    "])\n"
   ]
  },
  {
   "cell_type": "code",
   "execution_count": null,
   "id": "438bdd0e",
   "metadata": {},
   "outputs": [],
   "source": [
    "#  creating Dataset and DataLoader\n",
    "\n",
    "dataset = RetinalDataset(\n",
    "    csv_file=\"ODIR-5K/full_df.csv\",\n",
    "    image_dir=\"ODIR-5K/preprocessed_images\",\n",
    "    transform=transform\n",
    ")\n",
    "\n",
    "dataloader = DataLoader(dataset, batch_size=16, shuffle=True)\n",
    "\n",
    "images, labels = next(iter(dataloader))\n",
    "print(\"Image batch shape:\", images.shape)\n",
    "print(\"Label batch shape:\", labels.shape)\n"
   ]
  },
  {
   "cell_type": "code",
   "execution_count": null,
   "id": "da1f2988",
   "metadata": {},
   "outputs": [],
   "source": [
    "import timm\n",
    "import torch.nn as nn\n",
    "\n",
    "class ViTModel(nn.Module):\n",
    "    def __init__(self, model_name='vit_base_patch16_224', num_classes=8):\n",
    "        super(ViTModel, self).__init__()\n",
    "        self.model = timm.create_model(model_name, pretrained=True)\n",
    "        in_features = self.model.head.in_features\n",
    "        self.model.head = nn.Linear(in_features, num_classes)\n",
    "\n",
    "    def forward(self, x):\n",
    "        return self.model(x)\n"
   ]
  },
  {
   "cell_type": "code",
   "execution_count": null,
   "id": "81f0c779",
   "metadata": {},
   "outputs": [],
   "source": [
    "device = torch.device(\"cuda\" if torch.cuda.is_available() else \"cpu\")\n",
    "\n",
    "model = ViTModel()\n",
    "model.to(device)\n",
    "\n",
    "criterion = nn.BCEWithLogitsLoss()\n",
    "optimizer = torch.optim.Adam(model.parameters(), lr=1e-4)\n"
   ]
  },
  {
   "cell_type": "code",
   "execution_count": null,
   "id": "9e433e87",
   "metadata": {},
   "outputs": [],
   "source": [
    "from tqdm import tqdm\n",
    "\n",
    "num_epochs = 5  # You can increase this later\n",
    "\n",
    "for epoch in range(num_epochs):\n",
    "    model.train()\n",
    "    running_loss = 0.0\n",
    "\n",
    "    loop = tqdm(dataloader, desc=f\"Epoch [{epoch+1}/{num_epochs}]\")\n",
    "\n",
    "    for images, labels in loop:\n",
    "        images = images.to(device)\n",
    "        labels = labels.to(device).float()  # for BCEWithLogitsLoss\n",
    "\n",
    "        optimizer.zero_grad()\n",
    "        outputs = model(images)\n",
    "        loss = criterion(outputs, labels)\n",
    "\n",
    "        loss.backward()\n",
    "        optimizer.step()\n",
    "\n",
    "        running_loss += loss.item()\n",
    "        loop.set_postfix(loss=loss.item())\n",
    "\n",
    "    print(f\"Epoch {epoch+1}, Average Loss: {running_loss / len(dataloader):.4f}\")\n"
   ]
  },
  {
   "cell_type": "code",
   "execution_count": null,
   "id": "06fff175",
   "metadata": {},
   "outputs": [],
   "source": []
  },
  {
   "cell_type": "code",
   "execution_count": null,
   "id": "eb79577b",
   "metadata": {},
   "outputs": [],
   "source": []
  },
  {
   "cell_type": "code",
   "execution_count": null,
   "id": "f11c39a6",
   "metadata": {},
   "outputs": [],
   "source": []
  }
 ],
 "metadata": {
  "kernelspec": {
   "display_name": "venv",
   "language": "python",
   "name": "python3"
  },
  "language_info": {
   "codemirror_mode": {
    "name": "ipython",
    "version": 3
   },
   "file_extension": ".py",
   "mimetype": "text/x-python",
   "name": "python",
   "nbconvert_exporter": "python",
   "pygments_lexer": "ipython3",
   "version": "3.12.3"
  }
 },
 "nbformat": 4,
 "nbformat_minor": 5
}
